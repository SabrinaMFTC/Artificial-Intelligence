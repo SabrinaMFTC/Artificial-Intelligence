{
  "nbformat": 4,
  "nbformat_minor": 0,
  "metadata": {
    "colab": {
      "provenance": []
    },
    "kernelspec": {
      "name": "python3",
      "display_name": "Python 3"
    },
    "language_info": {
      "name": "python"
    }
  },
  "cells": [
    {
      "cell_type": "markdown",
      "source": [
        "# Trabalho de Inteligência Artificial"
      ],
      "metadata": {
        "id": "b2WhxUaBE4c2"
      }
    },
    {
      "cell_type": "markdown",
      "source": [
        "<h3>Integrantes</h3>\n",
        "<table width=\"300\" border=\"2\">\n",
        "    <tr>\n",
        "        <td><b>Nome do Aluno</b> </td>\n",
        "        <td><b>RA</b></td>\n",
        "     </tr>  \n",
        "   <tr>\n",
        "       <td>Álvaro Hibide Claver </td>\n",
        "       <td>10368757</td>\n",
        "   </tr>\n",
        "   <tr>\n",
        "       <td>Matheus Marçal Ramos de Oliveira/td>\n",
        "       <td>10409001</td>\n",
        "   </tr>\n",
        "   <tr>\n",
        "       <td>Sabrina Midori Futami Teixeira de Carvalho</td>\n",
        "       <td>10410220</td>\n",
        "</table>"
      ],
      "metadata": {
        "id": "_hxxjWdW7OTm"
      }
    },
    {
      "cell_type": "code",
      "execution_count": null,
      "metadata": {
        "id": "KM77FQYOAsZf"
      },
      "outputs": [],
      "source": [
        "import pandas as pd\n",
        "import matplotlib.pyplot as plt\n",
        "import seaborn as sns"
      ]
    },
    {
      "cell_type": "markdown",
      "source": [
        "## Iniciando Tratamento de Dados"
      ],
      "metadata": {
        "id": "Y4pUHxWnC_RM"
      }
    },
    {
      "cell_type": "code",
      "source": [
        "csv_path = \"/content/pet_adoption_data.csv\"\n",
        "df = pd.read_csv(csv_path)"
      ],
      "metadata": {
        "id": "99K9a0TbC-Xk"
      },
      "execution_count": null,
      "outputs": []
    },
    {
      "cell_type": "code",
      "source": [
        "print(\"Colunas do dataset:\", df.columns.tolist())"
      ],
      "metadata": {
        "colab": {
          "base_uri": "https://localhost:8080/"
        },
        "id": "Ekim1jSNDYYI",
        "outputId": "c950a98a-211f-4337-8489-5021337c28f7"
      },
      "execution_count": null,
      "outputs": [
        {
          "output_type": "stream",
          "name": "stdout",
          "text": [
            "Colunas do dataset: ['PetID', 'PetType', 'Breed', 'AgeMonths', 'Color', 'Size', 'WeightKg', 'Vaccinated', 'HealthCondition', 'TimeInShelterDays', 'AdoptionFee', 'PreviousOwner', 'AdoptionLikelihood']\n"
          ]
        }
      ]
    },
    {
      "cell_type": "markdown",
      "source": [
        "### Limpeza e normalização simples"
      ],
      "metadata": {
        "id": "6uCfTfByFkLG"
      }
    },
    {
      "cell_type": "code",
      "source": [
        "# Remover a coluna PetID, por ser irrelevante\n",
        "df = df.drop(columns=[\"PetID\"])"
      ],
      "metadata": {
        "id": "ti0_GYWcUpb8"
      },
      "execution_count": null,
      "outputs": []
    },
    {
      "cell_type": "code",
      "source": [
        "# Remover a coluna WeightKg, por ser irrelevante\n",
        "df = df.drop(columns=[\"WeightKg\"])"
      ],
      "metadata": {
        "id": "uZ4UeXF8Us76"
      },
      "execution_count": null,
      "outputs": []
    },
    {
      "cell_type": "code",
      "source": [
        "# Verificando se existe nulidade nas colunas do df\n",
        "print(df.isnull().sum())"
      ],
      "metadata": {
        "colab": {
          "base_uri": "https://localhost:8080/"
        },
        "id": "2ztjvdFQG7o1",
        "outputId": "20b4b041-5112-43e8-c1ea-35fc9891e1f4"
      },
      "execution_count": null,
      "outputs": [
        {
          "output_type": "stream",
          "name": "stdout",
          "text": [
            "PetType               0\n",
            "Breed                 0\n",
            "AgeMonths             0\n",
            "Color                 0\n",
            "Size                  0\n",
            "Vaccinated            0\n",
            "HealthCondition       0\n",
            "TimeInShelterDays     0\n",
            "AdoptionFee           0\n",
            "PreviousOwner         0\n",
            "AdoptionLikelihood    0\n",
            "dtype: int64\n"
          ]
        }
      ]
    },
    {
      "cell_type": "markdown",
      "source": [
        "### Verificando se os valores binários são apenas 0 ou 1"
      ],
      "metadata": {
        "id": "8bZkvsHZLEJI"
      }
    },
    {
      "cell_type": "code",
      "source": [
        "binarias = [\"Vaccinated\", \"HealthCondition\", \"PreviousOwner\", \"AdoptionLikelihood\"]\n",
        "\n",
        "for col in binarias:\n",
        "    print(f\"{col} → valores únicos antes: {df[col].unique()}\")\n",
        "    df[col] = df[col].apply(lambda x: 1 if x > 1 else (0 if x < 0 else x))\n",
        "    print(f\"{col} → valores únicos depois: {df[col].unique()}\")\n"
      ],
      "metadata": {
        "colab": {
          "base_uri": "https://localhost:8080/"
        },
        "id": "IB9zTz0QLIYt",
        "outputId": "73ff06f0-d4fd-4753-a2aa-37cb373184e0"
      },
      "execution_count": null,
      "outputs": [
        {
          "output_type": "stream",
          "name": "stdout",
          "text": [
            "Vaccinated → valores únicos antes: [1 0]\n",
            "Vaccinated → valores únicos depois: [1 0]\n",
            "HealthCondition → valores únicos antes: [0 1]\n",
            "HealthCondition → valores únicos depois: [0 1]\n",
            "PreviousOwner → valores únicos antes: [0 1]\n",
            "PreviousOwner → valores únicos depois: [0 1]\n",
            "AdoptionLikelihood → valores únicos antes: [0 1]\n",
            "AdoptionLikelihood → valores únicos depois: [0 1]\n"
          ]
        }
      ]
    },
    {
      "cell_type": "code",
      "source": [
        "# Filtrando apenas linhas onde PetType == \"Cat\" ou PetType == \"Dog\" e resetando o index original\n",
        "df_cats = df[df[\"PetType\"] == \"Cat\"].reset_index(drop=True)\n",
        "df_dogs = df[df[\"PetType\"] == \"Dog\"].reset_index(drop=True)"
      ],
      "metadata": {
        "id": "fszUTro9Db8X"
      },
      "execution_count": null,
      "outputs": []
    },
    {
      "cell_type": "code",
      "source": [
        "# Mostrando resultado com gatos apenas\n",
        "print(f\"Total de registros: {len(df_cats)}\")\n",
        "print(f\"Registros apenas com gatos: {len(df_cats)}\\n\")\n",
        "\n",
        "df_cats.head()"
      ],
      "metadata": {
        "id": "QZ64EFD6DoD1",
        "outputId": "d6a4161e-7e4b-4367-8ea0-a7c5e4d01972",
        "colab": {
          "base_uri": "https://localhost:8080/",
          "height": 278
        }
      },
      "execution_count": null,
      "outputs": [
        {
          "output_type": "stream",
          "name": "stdout",
          "text": [
            "Total de registros: 505\n",
            "Registros apenas com gatos: 505\n",
            "\n"
          ]
        },
        {
          "output_type": "execute_result",
          "data": {
            "text/plain": [
              "  PetType    Breed  AgeMonths   Color    Size  Vaccinated  HealthCondition  \\\n",
              "0     Cat  Siamese         13  Orange   Large           1                0   \n",
              "1     Cat  Siamese         27   Black   Large           1                0   \n",
              "2     Cat  Persian        160   Brown  Medium           1                0   \n",
              "3     Cat  Persian          8  Orange   Small           1                1   \n",
              "4     Cat  Persian         50   White  Medium           1                0   \n",
              "\n",
              "   TimeInShelterDays  AdoptionFee  PreviousOwner  AdoptionLikelihood  \n",
              "0                  3          137              0                   1  \n",
              "1                  5          135              0                   0  \n",
              "2                 11          404              0                   1  \n",
              "3                 64          405              1                   0  \n",
              "4                 13          109              0                   1  "
            ],
            "text/html": [
              "\n",
              "  <div id=\"df-88766353-3737-47a6-af53-86fbb6c355fc\" class=\"colab-df-container\">\n",
              "    <div>\n",
              "<style scoped>\n",
              "    .dataframe tbody tr th:only-of-type {\n",
              "        vertical-align: middle;\n",
              "    }\n",
              "\n",
              "    .dataframe tbody tr th {\n",
              "        vertical-align: top;\n",
              "    }\n",
              "\n",
              "    .dataframe thead th {\n",
              "        text-align: right;\n",
              "    }\n",
              "</style>\n",
              "<table border=\"1\" class=\"dataframe\">\n",
              "  <thead>\n",
              "    <tr style=\"text-align: right;\">\n",
              "      <th></th>\n",
              "      <th>PetType</th>\n",
              "      <th>Breed</th>\n",
              "      <th>AgeMonths</th>\n",
              "      <th>Color</th>\n",
              "      <th>Size</th>\n",
              "      <th>Vaccinated</th>\n",
              "      <th>HealthCondition</th>\n",
              "      <th>TimeInShelterDays</th>\n",
              "      <th>AdoptionFee</th>\n",
              "      <th>PreviousOwner</th>\n",
              "      <th>AdoptionLikelihood</th>\n",
              "    </tr>\n",
              "  </thead>\n",
              "  <tbody>\n",
              "    <tr>\n",
              "      <th>0</th>\n",
              "      <td>Cat</td>\n",
              "      <td>Siamese</td>\n",
              "      <td>13</td>\n",
              "      <td>Orange</td>\n",
              "      <td>Large</td>\n",
              "      <td>1</td>\n",
              "      <td>0</td>\n",
              "      <td>3</td>\n",
              "      <td>137</td>\n",
              "      <td>0</td>\n",
              "      <td>1</td>\n",
              "    </tr>\n",
              "    <tr>\n",
              "      <th>1</th>\n",
              "      <td>Cat</td>\n",
              "      <td>Siamese</td>\n",
              "      <td>27</td>\n",
              "      <td>Black</td>\n",
              "      <td>Large</td>\n",
              "      <td>1</td>\n",
              "      <td>0</td>\n",
              "      <td>5</td>\n",
              "      <td>135</td>\n",
              "      <td>0</td>\n",
              "      <td>0</td>\n",
              "    </tr>\n",
              "    <tr>\n",
              "      <th>2</th>\n",
              "      <td>Cat</td>\n",
              "      <td>Persian</td>\n",
              "      <td>160</td>\n",
              "      <td>Brown</td>\n",
              "      <td>Medium</td>\n",
              "      <td>1</td>\n",
              "      <td>0</td>\n",
              "      <td>11</td>\n",
              "      <td>404</td>\n",
              "      <td>0</td>\n",
              "      <td>1</td>\n",
              "    </tr>\n",
              "    <tr>\n",
              "      <th>3</th>\n",
              "      <td>Cat</td>\n",
              "      <td>Persian</td>\n",
              "      <td>8</td>\n",
              "      <td>Orange</td>\n",
              "      <td>Small</td>\n",
              "      <td>1</td>\n",
              "      <td>1</td>\n",
              "      <td>64</td>\n",
              "      <td>405</td>\n",
              "      <td>1</td>\n",
              "      <td>0</td>\n",
              "    </tr>\n",
              "    <tr>\n",
              "      <th>4</th>\n",
              "      <td>Cat</td>\n",
              "      <td>Persian</td>\n",
              "      <td>50</td>\n",
              "      <td>White</td>\n",
              "      <td>Medium</td>\n",
              "      <td>1</td>\n",
              "      <td>0</td>\n",
              "      <td>13</td>\n",
              "      <td>109</td>\n",
              "      <td>0</td>\n",
              "      <td>1</td>\n",
              "    </tr>\n",
              "  </tbody>\n",
              "</table>\n",
              "</div>\n",
              "    <div class=\"colab-df-buttons\">\n",
              "\n",
              "  <div class=\"colab-df-container\">\n",
              "    <button class=\"colab-df-convert\" onclick=\"convertToInteractive('df-88766353-3737-47a6-af53-86fbb6c355fc')\"\n",
              "            title=\"Convert this dataframe to an interactive table.\"\n",
              "            style=\"display:none;\">\n",
              "\n",
              "  <svg xmlns=\"http://www.w3.org/2000/svg\" height=\"24px\" viewBox=\"0 -960 960 960\">\n",
              "    <path d=\"M120-120v-720h720v720H120Zm60-500h600v-160H180v160Zm220 220h160v-160H400v160Zm0 220h160v-160H400v160ZM180-400h160v-160H180v160Zm440 0h160v-160H620v160ZM180-180h160v-160H180v160Zm440 0h160v-160H620v160Z\"/>\n",
              "  </svg>\n",
              "    </button>\n",
              "\n",
              "  <style>\n",
              "    .colab-df-container {\n",
              "      display:flex;\n",
              "      gap: 12px;\n",
              "    }\n",
              "\n",
              "    .colab-df-convert {\n",
              "      background-color: #E8F0FE;\n",
              "      border: none;\n",
              "      border-radius: 50%;\n",
              "      cursor: pointer;\n",
              "      display: none;\n",
              "      fill: #1967D2;\n",
              "      height: 32px;\n",
              "      padding: 0 0 0 0;\n",
              "      width: 32px;\n",
              "    }\n",
              "\n",
              "    .colab-df-convert:hover {\n",
              "      background-color: #E2EBFA;\n",
              "      box-shadow: 0px 1px 2px rgba(60, 64, 67, 0.3), 0px 1px 3px 1px rgba(60, 64, 67, 0.15);\n",
              "      fill: #174EA6;\n",
              "    }\n",
              "\n",
              "    .colab-df-buttons div {\n",
              "      margin-bottom: 4px;\n",
              "    }\n",
              "\n",
              "    [theme=dark] .colab-df-convert {\n",
              "      background-color: #3B4455;\n",
              "      fill: #D2E3FC;\n",
              "    }\n",
              "\n",
              "    [theme=dark] .colab-df-convert:hover {\n",
              "      background-color: #434B5C;\n",
              "      box-shadow: 0px 1px 3px 1px rgba(0, 0, 0, 0.15);\n",
              "      filter: drop-shadow(0px 1px 2px rgba(0, 0, 0, 0.3));\n",
              "      fill: #FFFFFF;\n",
              "    }\n",
              "  </style>\n",
              "\n",
              "    <script>\n",
              "      const buttonEl =\n",
              "        document.querySelector('#df-88766353-3737-47a6-af53-86fbb6c355fc button.colab-df-convert');\n",
              "      buttonEl.style.display =\n",
              "        google.colab.kernel.accessAllowed ? 'block' : 'none';\n",
              "\n",
              "      async function convertToInteractive(key) {\n",
              "        const element = document.querySelector('#df-88766353-3737-47a6-af53-86fbb6c355fc');\n",
              "        const dataTable =\n",
              "          await google.colab.kernel.invokeFunction('convertToInteractive',\n",
              "                                                    [key], {});\n",
              "        if (!dataTable) return;\n",
              "\n",
              "        const docLinkHtml = 'Like what you see? Visit the ' +\n",
              "          '<a target=\"_blank\" href=https://colab.research.google.com/notebooks/data_table.ipynb>data table notebook</a>'\n",
              "          + ' to learn more about interactive tables.';\n",
              "        element.innerHTML = '';\n",
              "        dataTable['output_type'] = 'display_data';\n",
              "        await google.colab.output.renderOutput(dataTable, element);\n",
              "        const docLink = document.createElement('div');\n",
              "        docLink.innerHTML = docLinkHtml;\n",
              "        element.appendChild(docLink);\n",
              "      }\n",
              "    </script>\n",
              "  </div>\n",
              "\n",
              "\n",
              "    <div id=\"df-7c38b782-8d35-4aa1-a180-6534ac74e0da\">\n",
              "      <button class=\"colab-df-quickchart\" onclick=\"quickchart('df-7c38b782-8d35-4aa1-a180-6534ac74e0da')\"\n",
              "                title=\"Suggest charts\"\n",
              "                style=\"display:none;\">\n",
              "\n",
              "<svg xmlns=\"http://www.w3.org/2000/svg\" height=\"24px\"viewBox=\"0 0 24 24\"\n",
              "     width=\"24px\">\n",
              "    <g>\n",
              "        <path d=\"M19 3H5c-1.1 0-2 .9-2 2v14c0 1.1.9 2 2 2h14c1.1 0 2-.9 2-2V5c0-1.1-.9-2-2-2zM9 17H7v-7h2v7zm4 0h-2V7h2v10zm4 0h-2v-4h2v4z\"/>\n",
              "    </g>\n",
              "</svg>\n",
              "      </button>\n",
              "\n",
              "<style>\n",
              "  .colab-df-quickchart {\n",
              "      --bg-color: #E8F0FE;\n",
              "      --fill-color: #1967D2;\n",
              "      --hover-bg-color: #E2EBFA;\n",
              "      --hover-fill-color: #174EA6;\n",
              "      --disabled-fill-color: #AAA;\n",
              "      --disabled-bg-color: #DDD;\n",
              "  }\n",
              "\n",
              "  [theme=dark] .colab-df-quickchart {\n",
              "      --bg-color: #3B4455;\n",
              "      --fill-color: #D2E3FC;\n",
              "      --hover-bg-color: #434B5C;\n",
              "      --hover-fill-color: #FFFFFF;\n",
              "      --disabled-bg-color: #3B4455;\n",
              "      --disabled-fill-color: #666;\n",
              "  }\n",
              "\n",
              "  .colab-df-quickchart {\n",
              "    background-color: var(--bg-color);\n",
              "    border: none;\n",
              "    border-radius: 50%;\n",
              "    cursor: pointer;\n",
              "    display: none;\n",
              "    fill: var(--fill-color);\n",
              "    height: 32px;\n",
              "    padding: 0;\n",
              "    width: 32px;\n",
              "  }\n",
              "\n",
              "  .colab-df-quickchart:hover {\n",
              "    background-color: var(--hover-bg-color);\n",
              "    box-shadow: 0 1px 2px rgba(60, 64, 67, 0.3), 0 1px 3px 1px rgba(60, 64, 67, 0.15);\n",
              "    fill: var(--button-hover-fill-color);\n",
              "  }\n",
              "\n",
              "  .colab-df-quickchart-complete:disabled,\n",
              "  .colab-df-quickchart-complete:disabled:hover {\n",
              "    background-color: var(--disabled-bg-color);\n",
              "    fill: var(--disabled-fill-color);\n",
              "    box-shadow: none;\n",
              "  }\n",
              "\n",
              "  .colab-df-spinner {\n",
              "    border: 2px solid var(--fill-color);\n",
              "    border-color: transparent;\n",
              "    border-bottom-color: var(--fill-color);\n",
              "    animation:\n",
              "      spin 1s steps(1) infinite;\n",
              "  }\n",
              "\n",
              "  @keyframes spin {\n",
              "    0% {\n",
              "      border-color: transparent;\n",
              "      border-bottom-color: var(--fill-color);\n",
              "      border-left-color: var(--fill-color);\n",
              "    }\n",
              "    20% {\n",
              "      border-color: transparent;\n",
              "      border-left-color: var(--fill-color);\n",
              "      border-top-color: var(--fill-color);\n",
              "    }\n",
              "    30% {\n",
              "      border-color: transparent;\n",
              "      border-left-color: var(--fill-color);\n",
              "      border-top-color: var(--fill-color);\n",
              "      border-right-color: var(--fill-color);\n",
              "    }\n",
              "    40% {\n",
              "      border-color: transparent;\n",
              "      border-right-color: var(--fill-color);\n",
              "      border-top-color: var(--fill-color);\n",
              "    }\n",
              "    60% {\n",
              "      border-color: transparent;\n",
              "      border-right-color: var(--fill-color);\n",
              "    }\n",
              "    80% {\n",
              "      border-color: transparent;\n",
              "      border-right-color: var(--fill-color);\n",
              "      border-bottom-color: var(--fill-color);\n",
              "    }\n",
              "    90% {\n",
              "      border-color: transparent;\n",
              "      border-bottom-color: var(--fill-color);\n",
              "    }\n",
              "  }\n",
              "</style>\n",
              "\n",
              "      <script>\n",
              "        async function quickchart(key) {\n",
              "          const quickchartButtonEl =\n",
              "            document.querySelector('#' + key + ' button');\n",
              "          quickchartButtonEl.disabled = true;  // To prevent multiple clicks.\n",
              "          quickchartButtonEl.classList.add('colab-df-spinner');\n",
              "          try {\n",
              "            const charts = await google.colab.kernel.invokeFunction(\n",
              "                'suggestCharts', [key], {});\n",
              "          } catch (error) {\n",
              "            console.error('Error during call to suggestCharts:', error);\n",
              "          }\n",
              "          quickchartButtonEl.classList.remove('colab-df-spinner');\n",
              "          quickchartButtonEl.classList.add('colab-df-quickchart-complete');\n",
              "        }\n",
              "        (() => {\n",
              "          let quickchartButtonEl =\n",
              "            document.querySelector('#df-7c38b782-8d35-4aa1-a180-6534ac74e0da button');\n",
              "          quickchartButtonEl.style.display =\n",
              "            google.colab.kernel.accessAllowed ? 'block' : 'none';\n",
              "        })();\n",
              "      </script>\n",
              "    </div>\n",
              "\n",
              "    </div>\n",
              "  </div>\n"
            ],
            "application/vnd.google.colaboratory.intrinsic+json": {
              "type": "dataframe",
              "variable_name": "df_cats",
              "summary": "{\n  \"name\": \"df_cats\",\n  \"rows\": 505,\n  \"fields\": [\n    {\n      \"column\": \"PetType\",\n      \"properties\": {\n        \"dtype\": \"category\",\n        \"num_unique_values\": 1,\n        \"samples\": [\n          \"Cat\"\n        ],\n        \"semantic_type\": \"\",\n        \"description\": \"\"\n      }\n    },\n    {\n      \"column\": \"Breed\",\n      \"properties\": {\n        \"dtype\": \"category\",\n        \"num_unique_values\": 2,\n        \"samples\": [\n          \"Persian\"\n        ],\n        \"semantic_type\": \"\",\n        \"description\": \"\"\n      }\n    },\n    {\n      \"column\": \"AgeMonths\",\n      \"properties\": {\n        \"dtype\": \"number\",\n        \"std\": 52,\n        \"min\": 2,\n        \"max\": 179,\n        \"num_unique_values\": 170,\n        \"samples\": [\n          55\n        ],\n        \"semantic_type\": \"\",\n        \"description\": \"\"\n      }\n    },\n    {\n      \"column\": \"Color\",\n      \"properties\": {\n        \"dtype\": \"category\",\n        \"num_unique_values\": 5,\n        \"samples\": [\n          \"Black\"\n        ],\n        \"semantic_type\": \"\",\n        \"description\": \"\"\n      }\n    },\n    {\n      \"column\": \"Size\",\n      \"properties\": {\n        \"dtype\": \"category\",\n        \"num_unique_values\": 3,\n        \"samples\": [\n          \"Large\"\n        ],\n        \"semantic_type\": \"\",\n        \"description\": \"\"\n      }\n    },\n    {\n      \"column\": \"Vaccinated\",\n      \"properties\": {\n        \"dtype\": \"number\",\n        \"std\": 0,\n        \"min\": 0,\n        \"max\": 1,\n        \"num_unique_values\": 2,\n        \"samples\": [\n          0\n        ],\n        \"semantic_type\": \"\",\n        \"description\": \"\"\n      }\n    },\n    {\n      \"column\": \"HealthCondition\",\n      \"properties\": {\n        \"dtype\": \"number\",\n        \"std\": 0,\n        \"min\": 0,\n        \"max\": 1,\n        \"num_unique_values\": 2,\n        \"samples\": [\n          1\n        ],\n        \"semantic_type\": \"\",\n        \"description\": \"\"\n      }\n    },\n    {\n      \"column\": \"TimeInShelterDays\",\n      \"properties\": {\n        \"dtype\": \"number\",\n        \"std\": 26,\n        \"min\": 1,\n        \"max\": 89,\n        \"num_unique_values\": 88,\n        \"samples\": [\n          78\n        ],\n        \"semantic_type\": \"\",\n        \"description\": \"\"\n      }\n    },\n    {\n      \"column\": \"AdoptionFee\",\n      \"properties\": {\n        \"dtype\": \"number\",\n        \"std\": 143,\n        \"min\": 1,\n        \"max\": 499,\n        \"num_unique_values\": 312,\n        \"samples\": [\n          377\n        ],\n        \"semantic_type\": \"\",\n        \"description\": \"\"\n      }\n    },\n    {\n      \"column\": \"PreviousOwner\",\n      \"properties\": {\n        \"dtype\": \"number\",\n        \"std\": 0,\n        \"min\": 0,\n        \"max\": 1,\n        \"num_unique_values\": 2,\n        \"samples\": [\n          1\n        ],\n        \"semantic_type\": \"\",\n        \"description\": \"\"\n      }\n    },\n    {\n      \"column\": \"AdoptionLikelihood\",\n      \"properties\": {\n        \"dtype\": \"number\",\n        \"std\": 0,\n        \"min\": 0,\n        \"max\": 1,\n        \"num_unique_values\": 2,\n        \"samples\": [\n          0\n        ],\n        \"semantic_type\": \"\",\n        \"description\": \"\"\n      }\n    }\n  ]\n}"
            }
          },
          "metadata": {},
          "execution_count": 12
        }
      ]
    },
    {
      "cell_type": "code",
      "source": [
        "# Mostrando resultado com cachorros apenas\n",
        "print(f\"Total de registros: {len(df_dogs)}\")\n",
        "print(f\"Registros apenas com gatos: {len(df_dogs)}\\n\")\n",
        "\n",
        "df_dogs.head()"
      ],
      "metadata": {
        "colab": {
          "base_uri": "https://localhost:8080/",
          "height": 313
        },
        "id": "eDFLdSjocFSv",
        "outputId": "7e9902e7-e615-4cc3-ff54-55969d5a9517"
      },
      "execution_count": null,
      "outputs": [
        {
          "output_type": "stream",
          "name": "stdout",
          "text": [
            "Total de registros: 522\n",
            "Registros apenas com gatos: 522\n",
            "\n"
          ]
        },
        {
          "output_type": "execute_result",
          "data": {
            "text/plain": [
              "  PetType             Breed  AgeMonths   Color    Size  Vaccinated  \\\n",
              "0     Dog  Golden Retriever        136  Orange  Medium           0   \n",
              "1     Dog          Labrador         70   Brown   Large           0   \n",
              "2     Dog  Golden Retriever        172   Brown   Large           1   \n",
              "3     Dog          Labrador         44    Gray   Small           0   \n",
              "4     Dog          Labrador          3    Gray   Large           1   \n",
              "\n",
              "   HealthCondition  TimeInShelterDays  AdoptionFee  PreviousOwner  \\\n",
              "0                0                 85          385              0   \n",
              "1                0                 87          301              1   \n",
              "2                0                  4           76              1   \n",
              "3                1                  6          300              0   \n",
              "4                0                 50          369              1   \n",
              "\n",
              "   AdoptionLikelihood  \n",
              "0                   0  \n",
              "1                   0  \n",
              "2                   0  \n",
              "3                   0  \n",
              "4                   1  "
            ],
            "text/html": [
              "\n",
              "  <div id=\"df-e1415f03-de30-47e0-8d17-7492c635b81e\" class=\"colab-df-container\">\n",
              "    <div>\n",
              "<style scoped>\n",
              "    .dataframe tbody tr th:only-of-type {\n",
              "        vertical-align: middle;\n",
              "    }\n",
              "\n",
              "    .dataframe tbody tr th {\n",
              "        vertical-align: top;\n",
              "    }\n",
              "\n",
              "    .dataframe thead th {\n",
              "        text-align: right;\n",
              "    }\n",
              "</style>\n",
              "<table border=\"1\" class=\"dataframe\">\n",
              "  <thead>\n",
              "    <tr style=\"text-align: right;\">\n",
              "      <th></th>\n",
              "      <th>PetType</th>\n",
              "      <th>Breed</th>\n",
              "      <th>AgeMonths</th>\n",
              "      <th>Color</th>\n",
              "      <th>Size</th>\n",
              "      <th>Vaccinated</th>\n",
              "      <th>HealthCondition</th>\n",
              "      <th>TimeInShelterDays</th>\n",
              "      <th>AdoptionFee</th>\n",
              "      <th>PreviousOwner</th>\n",
              "      <th>AdoptionLikelihood</th>\n",
              "    </tr>\n",
              "  </thead>\n",
              "  <tbody>\n",
              "    <tr>\n",
              "      <th>0</th>\n",
              "      <td>Dog</td>\n",
              "      <td>Golden Retriever</td>\n",
              "      <td>136</td>\n",
              "      <td>Orange</td>\n",
              "      <td>Medium</td>\n",
              "      <td>0</td>\n",
              "      <td>0</td>\n",
              "      <td>85</td>\n",
              "      <td>385</td>\n",
              "      <td>0</td>\n",
              "      <td>0</td>\n",
              "    </tr>\n",
              "    <tr>\n",
              "      <th>1</th>\n",
              "      <td>Dog</td>\n",
              "      <td>Labrador</td>\n",
              "      <td>70</td>\n",
              "      <td>Brown</td>\n",
              "      <td>Large</td>\n",
              "      <td>0</td>\n",
              "      <td>0</td>\n",
              "      <td>87</td>\n",
              "      <td>301</td>\n",
              "      <td>1</td>\n",
              "      <td>0</td>\n",
              "    </tr>\n",
              "    <tr>\n",
              "      <th>2</th>\n",
              "      <td>Dog</td>\n",
              "      <td>Golden Retriever</td>\n",
              "      <td>172</td>\n",
              "      <td>Brown</td>\n",
              "      <td>Large</td>\n",
              "      <td>1</td>\n",
              "      <td>0</td>\n",
              "      <td>4</td>\n",
              "      <td>76</td>\n",
              "      <td>1</td>\n",
              "      <td>0</td>\n",
              "    </tr>\n",
              "    <tr>\n",
              "      <th>3</th>\n",
              "      <td>Dog</td>\n",
              "      <td>Labrador</td>\n",
              "      <td>44</td>\n",
              "      <td>Gray</td>\n",
              "      <td>Small</td>\n",
              "      <td>0</td>\n",
              "      <td>1</td>\n",
              "      <td>6</td>\n",
              "      <td>300</td>\n",
              "      <td>0</td>\n",
              "      <td>0</td>\n",
              "    </tr>\n",
              "    <tr>\n",
              "      <th>4</th>\n",
              "      <td>Dog</td>\n",
              "      <td>Labrador</td>\n",
              "      <td>3</td>\n",
              "      <td>Gray</td>\n",
              "      <td>Large</td>\n",
              "      <td>1</td>\n",
              "      <td>0</td>\n",
              "      <td>50</td>\n",
              "      <td>369</td>\n",
              "      <td>1</td>\n",
              "      <td>1</td>\n",
              "    </tr>\n",
              "  </tbody>\n",
              "</table>\n",
              "</div>\n",
              "    <div class=\"colab-df-buttons\">\n",
              "\n",
              "  <div class=\"colab-df-container\">\n",
              "    <button class=\"colab-df-convert\" onclick=\"convertToInteractive('df-e1415f03-de30-47e0-8d17-7492c635b81e')\"\n",
              "            title=\"Convert this dataframe to an interactive table.\"\n",
              "            style=\"display:none;\">\n",
              "\n",
              "  <svg xmlns=\"http://www.w3.org/2000/svg\" height=\"24px\" viewBox=\"0 -960 960 960\">\n",
              "    <path d=\"M120-120v-720h720v720H120Zm60-500h600v-160H180v160Zm220 220h160v-160H400v160Zm0 220h160v-160H400v160ZM180-400h160v-160H180v160Zm440 0h160v-160H620v160ZM180-180h160v-160H180v160Zm440 0h160v-160H620v160Z\"/>\n",
              "  </svg>\n",
              "    </button>\n",
              "\n",
              "  <style>\n",
              "    .colab-df-container {\n",
              "      display:flex;\n",
              "      gap: 12px;\n",
              "    }\n",
              "\n",
              "    .colab-df-convert {\n",
              "      background-color: #E8F0FE;\n",
              "      border: none;\n",
              "      border-radius: 50%;\n",
              "      cursor: pointer;\n",
              "      display: none;\n",
              "      fill: #1967D2;\n",
              "      height: 32px;\n",
              "      padding: 0 0 0 0;\n",
              "      width: 32px;\n",
              "    }\n",
              "\n",
              "    .colab-df-convert:hover {\n",
              "      background-color: #E2EBFA;\n",
              "      box-shadow: 0px 1px 2px rgba(60, 64, 67, 0.3), 0px 1px 3px 1px rgba(60, 64, 67, 0.15);\n",
              "      fill: #174EA6;\n",
              "    }\n",
              "\n",
              "    .colab-df-buttons div {\n",
              "      margin-bottom: 4px;\n",
              "    }\n",
              "\n",
              "    [theme=dark] .colab-df-convert {\n",
              "      background-color: #3B4455;\n",
              "      fill: #D2E3FC;\n",
              "    }\n",
              "\n",
              "    [theme=dark] .colab-df-convert:hover {\n",
              "      background-color: #434B5C;\n",
              "      box-shadow: 0px 1px 3px 1px rgba(0, 0, 0, 0.15);\n",
              "      filter: drop-shadow(0px 1px 2px rgba(0, 0, 0, 0.3));\n",
              "      fill: #FFFFFF;\n",
              "    }\n",
              "  </style>\n",
              "\n",
              "    <script>\n",
              "      const buttonEl =\n",
              "        document.querySelector('#df-e1415f03-de30-47e0-8d17-7492c635b81e button.colab-df-convert');\n",
              "      buttonEl.style.display =\n",
              "        google.colab.kernel.accessAllowed ? 'block' : 'none';\n",
              "\n",
              "      async function convertToInteractive(key) {\n",
              "        const element = document.querySelector('#df-e1415f03-de30-47e0-8d17-7492c635b81e');\n",
              "        const dataTable =\n",
              "          await google.colab.kernel.invokeFunction('convertToInteractive',\n",
              "                                                    [key], {});\n",
              "        if (!dataTable) return;\n",
              "\n",
              "        const docLinkHtml = 'Like what you see? Visit the ' +\n",
              "          '<a target=\"_blank\" href=https://colab.research.google.com/notebooks/data_table.ipynb>data table notebook</a>'\n",
              "          + ' to learn more about interactive tables.';\n",
              "        element.innerHTML = '';\n",
              "        dataTable['output_type'] = 'display_data';\n",
              "        await google.colab.output.renderOutput(dataTable, element);\n",
              "        const docLink = document.createElement('div');\n",
              "        docLink.innerHTML = docLinkHtml;\n",
              "        element.appendChild(docLink);\n",
              "      }\n",
              "    </script>\n",
              "  </div>\n",
              "\n",
              "\n",
              "    <div id=\"df-bb6ac2b5-8cdb-43c2-8261-e2cc48c4ebd2\">\n",
              "      <button class=\"colab-df-quickchart\" onclick=\"quickchart('df-bb6ac2b5-8cdb-43c2-8261-e2cc48c4ebd2')\"\n",
              "                title=\"Suggest charts\"\n",
              "                style=\"display:none;\">\n",
              "\n",
              "<svg xmlns=\"http://www.w3.org/2000/svg\" height=\"24px\"viewBox=\"0 0 24 24\"\n",
              "     width=\"24px\">\n",
              "    <g>\n",
              "        <path d=\"M19 3H5c-1.1 0-2 .9-2 2v14c0 1.1.9 2 2 2h14c1.1 0 2-.9 2-2V5c0-1.1-.9-2-2-2zM9 17H7v-7h2v7zm4 0h-2V7h2v10zm4 0h-2v-4h2v4z\"/>\n",
              "    </g>\n",
              "</svg>\n",
              "      </button>\n",
              "\n",
              "<style>\n",
              "  .colab-df-quickchart {\n",
              "      --bg-color: #E8F0FE;\n",
              "      --fill-color: #1967D2;\n",
              "      --hover-bg-color: #E2EBFA;\n",
              "      --hover-fill-color: #174EA6;\n",
              "      --disabled-fill-color: #AAA;\n",
              "      --disabled-bg-color: #DDD;\n",
              "  }\n",
              "\n",
              "  [theme=dark] .colab-df-quickchart {\n",
              "      --bg-color: #3B4455;\n",
              "      --fill-color: #D2E3FC;\n",
              "      --hover-bg-color: #434B5C;\n",
              "      --hover-fill-color: #FFFFFF;\n",
              "      --disabled-bg-color: #3B4455;\n",
              "      --disabled-fill-color: #666;\n",
              "  }\n",
              "\n",
              "  .colab-df-quickchart {\n",
              "    background-color: var(--bg-color);\n",
              "    border: none;\n",
              "    border-radius: 50%;\n",
              "    cursor: pointer;\n",
              "    display: none;\n",
              "    fill: var(--fill-color);\n",
              "    height: 32px;\n",
              "    padding: 0;\n",
              "    width: 32px;\n",
              "  }\n",
              "\n",
              "  .colab-df-quickchart:hover {\n",
              "    background-color: var(--hover-bg-color);\n",
              "    box-shadow: 0 1px 2px rgba(60, 64, 67, 0.3), 0 1px 3px 1px rgba(60, 64, 67, 0.15);\n",
              "    fill: var(--button-hover-fill-color);\n",
              "  }\n",
              "\n",
              "  .colab-df-quickchart-complete:disabled,\n",
              "  .colab-df-quickchart-complete:disabled:hover {\n",
              "    background-color: var(--disabled-bg-color);\n",
              "    fill: var(--disabled-fill-color);\n",
              "    box-shadow: none;\n",
              "  }\n",
              "\n",
              "  .colab-df-spinner {\n",
              "    border: 2px solid var(--fill-color);\n",
              "    border-color: transparent;\n",
              "    border-bottom-color: var(--fill-color);\n",
              "    animation:\n",
              "      spin 1s steps(1) infinite;\n",
              "  }\n",
              "\n",
              "  @keyframes spin {\n",
              "    0% {\n",
              "      border-color: transparent;\n",
              "      border-bottom-color: var(--fill-color);\n",
              "      border-left-color: var(--fill-color);\n",
              "    }\n",
              "    20% {\n",
              "      border-color: transparent;\n",
              "      border-left-color: var(--fill-color);\n",
              "      border-top-color: var(--fill-color);\n",
              "    }\n",
              "    30% {\n",
              "      border-color: transparent;\n",
              "      border-left-color: var(--fill-color);\n",
              "      border-top-color: var(--fill-color);\n",
              "      border-right-color: var(--fill-color);\n",
              "    }\n",
              "    40% {\n",
              "      border-color: transparent;\n",
              "      border-right-color: var(--fill-color);\n",
              "      border-top-color: var(--fill-color);\n",
              "    }\n",
              "    60% {\n",
              "      border-color: transparent;\n",
              "      border-right-color: var(--fill-color);\n",
              "    }\n",
              "    80% {\n",
              "      border-color: transparent;\n",
              "      border-right-color: var(--fill-color);\n",
              "      border-bottom-color: var(--fill-color);\n",
              "    }\n",
              "    90% {\n",
              "      border-color: transparent;\n",
              "      border-bottom-color: var(--fill-color);\n",
              "    }\n",
              "  }\n",
              "</style>\n",
              "\n",
              "      <script>\n",
              "        async function quickchart(key) {\n",
              "          const quickchartButtonEl =\n",
              "            document.querySelector('#' + key + ' button');\n",
              "          quickchartButtonEl.disabled = true;  // To prevent multiple clicks.\n",
              "          quickchartButtonEl.classList.add('colab-df-spinner');\n",
              "          try {\n",
              "            const charts = await google.colab.kernel.invokeFunction(\n",
              "                'suggestCharts', [key], {});\n",
              "          } catch (error) {\n",
              "            console.error('Error during call to suggestCharts:', error);\n",
              "          }\n",
              "          quickchartButtonEl.classList.remove('colab-df-spinner');\n",
              "          quickchartButtonEl.classList.add('colab-df-quickchart-complete');\n",
              "        }\n",
              "        (() => {\n",
              "          let quickchartButtonEl =\n",
              "            document.querySelector('#df-bb6ac2b5-8cdb-43c2-8261-e2cc48c4ebd2 button');\n",
              "          quickchartButtonEl.style.display =\n",
              "            google.colab.kernel.accessAllowed ? 'block' : 'none';\n",
              "        })();\n",
              "      </script>\n",
              "    </div>\n",
              "\n",
              "    </div>\n",
              "  </div>\n"
            ],
            "application/vnd.google.colaboratory.intrinsic+json": {
              "type": "dataframe",
              "variable_name": "df_dogs",
              "summary": "{\n  \"name\": \"df_dogs\",\n  \"rows\": 522,\n  \"fields\": [\n    {\n      \"column\": \"PetType\",\n      \"properties\": {\n        \"dtype\": \"category\",\n        \"num_unique_values\": 1,\n        \"samples\": [\n          \"Dog\"\n        ],\n        \"semantic_type\": \"\",\n        \"description\": \"\"\n      }\n    },\n    {\n      \"column\": \"Breed\",\n      \"properties\": {\n        \"dtype\": \"category\",\n        \"num_unique_values\": 3,\n        \"samples\": [\n          \"Golden Retriever\"\n        ],\n        \"semantic_type\": \"\",\n        \"description\": \"\"\n      }\n    },\n    {\n      \"column\": \"AgeMonths\",\n      \"properties\": {\n        \"dtype\": \"number\",\n        \"std\": 53,\n        \"min\": 1,\n        \"max\": 179,\n        \"num_unique_values\": 169,\n        \"samples\": [\n          132\n        ],\n        \"semantic_type\": \"\",\n        \"description\": \"\"\n      }\n    },\n    {\n      \"column\": \"Color\",\n      \"properties\": {\n        \"dtype\": \"category\",\n        \"num_unique_values\": 5,\n        \"samples\": [\n          \"Brown\"\n        ],\n        \"semantic_type\": \"\",\n        \"description\": \"\"\n      }\n    },\n    {\n      \"column\": \"Size\",\n      \"properties\": {\n        \"dtype\": \"category\",\n        \"num_unique_values\": 3,\n        \"samples\": [\n          \"Medium\"\n        ],\n        \"semantic_type\": \"\",\n        \"description\": \"\"\n      }\n    },\n    {\n      \"column\": \"Vaccinated\",\n      \"properties\": {\n        \"dtype\": \"number\",\n        \"std\": 0,\n        \"min\": 0,\n        \"max\": 1,\n        \"num_unique_values\": 2,\n        \"samples\": [\n          1\n        ],\n        \"semantic_type\": \"\",\n        \"description\": \"\"\n      }\n    },\n    {\n      \"column\": \"HealthCondition\",\n      \"properties\": {\n        \"dtype\": \"number\",\n        \"std\": 0,\n        \"min\": 0,\n        \"max\": 1,\n        \"num_unique_values\": 2,\n        \"samples\": [\n          1\n        ],\n        \"semantic_type\": \"\",\n        \"description\": \"\"\n      }\n    },\n    {\n      \"column\": \"TimeInShelterDays\",\n      \"properties\": {\n        \"dtype\": \"number\",\n        \"std\": 25,\n        \"min\": 1,\n        \"max\": 89,\n        \"num_unique_values\": 89,\n        \"samples\": [\n          89\n        ],\n        \"semantic_type\": \"\",\n        \"description\": \"\"\n      }\n    },\n    {\n      \"column\": \"AdoptionFee\",\n      \"properties\": {\n        \"dtype\": \"number\",\n        \"std\": 143,\n        \"min\": 0,\n        \"max\": 498,\n        \"num_unique_values\": 339,\n        \"samples\": [\n          200\n        ],\n        \"semantic_type\": \"\",\n        \"description\": \"\"\n      }\n    },\n    {\n      \"column\": \"PreviousOwner\",\n      \"properties\": {\n        \"dtype\": \"number\",\n        \"std\": 0,\n        \"min\": 0,\n        \"max\": 1,\n        \"num_unique_values\": 2,\n        \"samples\": [\n          1\n        ],\n        \"semantic_type\": \"\",\n        \"description\": \"\"\n      }\n    },\n    {\n      \"column\": \"AdoptionLikelihood\",\n      \"properties\": {\n        \"dtype\": \"number\",\n        \"std\": 0,\n        \"min\": 0,\n        \"max\": 1,\n        \"num_unique_values\": 2,\n        \"samples\": [\n          1\n        ],\n        \"semantic_type\": \"\",\n        \"description\": \"\"\n      }\n    }\n  ]\n}"
            }
          },
          "metadata": {},
          "execution_count": 13
        }
      ]
    },
    {
      "cell_type": "markdown",
      "source": [
        "### Tratamento colunas categóricas para conversão numérica para uso com ML\n",
        "\n",
        "Como algoritmos de Machine Learning não trabalham diretamente com variáveis categóricas (não numéricas), foi necessário converter essas variáveis em representações numéricas. Para isso, realizou-se a transformação em valores binários/booleanos, geralmente representados por 0 e 1."
      ],
      "metadata": {
        "id": "dKgoUeavLicN"
      }
    },
    {
      "cell_type": "code",
      "source": [
        "# Gatos\n",
        "categoricas = [\"Breed\", \"Color\", \"Size\"]\n",
        "print(\"Colunas categóricas - Gatos:\", categoricas)\n",
        "\n",
        "# Transformando em variáveis binárias (0/1)\n",
        "df_cats_encoded = pd.get_dummies(df_cats, columns=categoricas)\n",
        "\n",
        "print(df_cats_encoded.head())\n"
      ],
      "metadata": {
        "colab": {
          "base_uri": "https://localhost:8080/"
        },
        "id": "3DFaWGttLqJ_",
        "outputId": "2aebdaa3-641e-4457-e89e-d4274b060123"
      },
      "execution_count": null,
      "outputs": [
        {
          "output_type": "stream",
          "name": "stdout",
          "text": [
            "Colunas categóricas - Gatos: ['Breed', 'Color', 'Size']\n",
            "  PetType  AgeMonths  Vaccinated  HealthCondition  TimeInShelterDays  \\\n",
            "0     Cat         13           1                0                  3   \n",
            "1     Cat         27           1                0                  5   \n",
            "2     Cat        160           1                0                 11   \n",
            "3     Cat          8           1                1                 64   \n",
            "4     Cat         50           1                0                 13   \n",
            "\n",
            "   AdoptionFee  PreviousOwner  AdoptionLikelihood  Breed_Persian  \\\n",
            "0          137              0                   1          False   \n",
            "1          135              0                   0          False   \n",
            "2          404              0                   1           True   \n",
            "3          405              1                   0           True   \n",
            "4          109              0                   1           True   \n",
            "\n",
            "   Breed_Siamese  Color_Black  Color_Brown  Color_Gray  Color_Orange  \\\n",
            "0           True        False        False       False          True   \n",
            "1           True         True        False       False         False   \n",
            "2          False        False         True       False         False   \n",
            "3          False        False        False       False          True   \n",
            "4          False        False        False       False         False   \n",
            "\n",
            "   Color_White  Size_Large  Size_Medium  Size_Small  \n",
            "0        False        True        False       False  \n",
            "1        False        True        False       False  \n",
            "2        False       False         True       False  \n",
            "3        False       False        False        True  \n",
            "4         True       False         True       False  \n"
          ]
        }
      ]
    },
    {
      "cell_type": "code",
      "source": [
        "# Cachorros\n",
        "categoricas = [\"Breed\", \"Color\", \"Size\"]\n",
        "print(\"Colunas categóricas - Cachorros:\", categoricas)\n",
        "\n",
        "# Transformando em variáveis binárias (0/1)\n",
        "df_dogs_encoded = pd.get_dummies(df_dogs, columns=categoricas)\n",
        "\n",
        "print(df_dogs_encoded.head())\n"
      ],
      "metadata": {
        "colab": {
          "base_uri": "https://localhost:8080/"
        },
        "id": "A5-K_rWYfRs6",
        "outputId": "4e4b0dca-e1a0-41aa-9a3c-2aea67d60b5c"
      },
      "execution_count": null,
      "outputs": [
        {
          "output_type": "stream",
          "name": "stdout",
          "text": [
            "Colunas categóricas - Cachorros: ['Breed', 'Color', 'Size']\n",
            "  PetType  AgeMonths  Vaccinated  HealthCondition  TimeInShelterDays  \\\n",
            "0     Dog        136           0                0                 85   \n",
            "1     Dog         70           0                0                 87   \n",
            "2     Dog        172           1                0                  4   \n",
            "3     Dog         44           0                1                  6   \n",
            "4     Dog          3           1                0                 50   \n",
            "\n",
            "   AdoptionFee  PreviousOwner  AdoptionLikelihood  Breed_Golden Retriever  \\\n",
            "0          385              0                   0                    True   \n",
            "1          301              1                   0                   False   \n",
            "2           76              1                   0                    True   \n",
            "3          300              0                   0                   False   \n",
            "4          369              1                   1                   False   \n",
            "\n",
            "   Breed_Labrador  Breed_Poodle  Color_Black  Color_Brown  Color_Gray  \\\n",
            "0           False         False        False        False       False   \n",
            "1            True         False        False         True       False   \n",
            "2           False         False        False         True       False   \n",
            "3            True         False        False        False        True   \n",
            "4            True         False        False        False        True   \n",
            "\n",
            "   Color_Orange  Color_White  Size_Large  Size_Medium  Size_Small  \n",
            "0          True        False       False         True       False  \n",
            "1         False        False        True        False       False  \n",
            "2         False        False        True        False       False  \n",
            "3         False        False       False        False        True  \n",
            "4         False        False        True        False       False  \n"
          ]
        }
      ]
    },
    {
      "cell_type": "markdown",
      "source": [
        "### Export csv tratado"
      ],
      "metadata": {
        "id": "Clcos5d_NK5V"
      }
    },
    {
      "cell_type": "code",
      "source": [
        "df_cats_encoded.to_csv(\"/content/pet_adoption_data_cats_clean.csv\", index=False)"
      ],
      "metadata": {
        "id": "_6MV-YVWMsFA"
      },
      "execution_count": null,
      "outputs": []
    },
    {
      "cell_type": "code",
      "source": [
        "df_dogs_encoded.to_csv(\"/content/pet_adoption_data_dogs_clean.csv\", index=False)"
      ],
      "metadata": {
        "id": "a6IO2FxGc7hR"
      },
      "execution_count": null,
      "outputs": []
    },
    {
      "cell_type": "markdown",
      "source": [
        "### Análise Exploratória"
      ],
      "metadata": {
        "id": "zjBv38nnpXvf"
      }
    },
    {
      "cell_type": "code",
      "source": [
        "cats = pd.read_csv(\"pet_adoption_data_cats_clean.csv\")\n",
        "dogs = pd.read_csv(\"pet_adoption_data_dogs_clean.csv\")"
      ],
      "metadata": {
        "id": "d25YUzhAc_qf"
      },
      "execution_count": null,
      "outputs": []
    },
    {
      "cell_type": "markdown",
      "source": [
        "Inicialmente, vamos analisar a população de gatos e cachorros, em termos de idade (meses)."
      ],
      "metadata": {
        "id": "oCvpYaRYtsFe"
      }
    },
    {
      "cell_type": "code",
      "source": [
        "plt.figure(figsize=(10,5))\n",
        "sns.histplot(cats[\"AgeMonths\"], kde=True, color=\"orange\", label=\"Gatos\")\n",
        "sns.histplot(dogs[\"AgeMonths\"], kde=True, color=\"blue\", label=\"Cachorros\")\n",
        "plt.legend()\n",
        "plt.title(\"Distribuição de idade (em meses)\")\n",
        "plt.show()"
      ],
      "metadata": {
        "colab": {
          "base_uri": "https://localhost:8080/",
          "height": 487
        },
        "id": "gPeRGDeRqKVx",
        "outputId": "f0a77dfe-4250-4b8d-af43-fd8168078252"
      },
      "execution_count": null,
      "outputs": [
        {
          "output_type": "display_data",
          "data": {
            "text/plain": [
              "<Figure size 1000x500 with 1 Axes>"
            ],
            "image/png": "[encoded data removed]"
          },
          "metadata": {}
        }
      ]
    },
    {
      "cell_type": "markdown",
      "source": [
        "A distribuição de idades de gatos e cachorros no dataset mostra-se bastante semelhante, sem grandes diferenças estruturais entre as espécies. Observa-se uma leve predominância de jovens adultos, especialmente entre 60 e 80 meses (~5 a 6 anos), além de uma concentração expressiva de indivíduos jovens até 25 meses, com os cachorros ligeiramente mais representados nessa faixa inicial. Já nas idades mais avançadas, acima de 150 meses (cerca de 12 anos), ainda há presença significativa de animais idosos em ambos os grupos, indicando que o conjunto de dados não está enviesado apenas para filhotes.\n"
      ],
      "metadata": {
        "id": "9-_2GDDRt7ty"
      }
    },
    {
      "cell_type": "markdown",
      "source": [
        "Agora, vamos comparar a probabilidade de adoção entre gatos e cachorros."
      ],
      "metadata": {
        "id": "NCGqHTrLvujN"
      }
    },
    {
      "cell_type": "code",
      "source": [
        "plt.figure(figsize=(6,4))\n",
        "sns.barplot(\n",
        "    x=\"Species\",\n",
        "    y=\"AdoptionLikelihood\",\n",
        "    hue=\"Species\",\n",
        "    data=combined,\n",
        "    estimator=lambda x: sum(x)/len(x),\n",
        "    palette={\"Gato\": \"orange\", \"Cachorro\": \"blue\"},\n",
        "    legend=False\n",
        ")\n",
        "plt.title(\"Taxa de adoção por espécie\")\n",
        "plt.show()"
      ],
      "metadata": {
        "colab": {
          "base_uri": "https://localhost:8080/",
          "height": 411
        },
        "id": "zBI9Nnq5qq9W",
        "outputId": "4e5b2e3b-7c5a-43d0-e4cc-deadb33ff707"
      },
      "execution_count": null,
      "outputs": [
        {
          "output_type": "display_data",
          "data": {
            "text/plain": [
              "<Figure size 600x400 with 1 Axes>"
            ],
            "image/png": "[encoded data removed]"
          },
          "metadata": {}
        }
      ]
    },
    {
      "cell_type": "markdown",
      "source": [
        "O gráfico evidencia que a taxa média de adoção registrada no dataset é maior para cachorros (46%) do que para gatos (29%), indicando que cães apresentam uma probabilidade relativamente mais elevada de encontrarem um lar. Essa diferença sugere que fatores associados à espécie podem influenciar na decisão dos adotantes, embora seja importante considerar que outros atributos — como idade, porte, condição de saúde e custos envolvidos — também podem contribuir para esse resultado. Assim, a análise aponta uma tendência relevante, mas que deve ser interpretada em conjunto com demais variáveis para evitar conclusões simplistas. texto em negrito"
      ],
      "metadata": {
        "id": "l4MmfocZwT7G"
      }
    },
    {
      "cell_type": "markdown",
      "source": [
        "Passemos à análise do tempo de permanência de gatos e cachorros no abrigo."
      ],
      "metadata": {
        "id": "bxu8g1R6w2i5"
      }
    },
    {
      "cell_type": "code",
      "source": [
        "plt.figure(figsize=(8,5))\n",
        "sns.boxplot(\n",
        "    x=\"Species\",\n",
        "    y=\"TimeInShelterDays\",\n",
        "    hue=\"Species\",\n",
        "    data=combined,\n",
        "    palette={\"Gato\": \"orange\", \"Cachorro\": \"blue\"},\n",
        "    legend=False\n",
        ")\n",
        "plt.title(\"Tempo de permanência no abrigo por espécie\")\n",
        "plt.ylabel(\"Dias no abrigo\")\n",
        "plt.xlabel(\"Espécie\")\n",
        "plt.show()"
      ],
      "metadata": {
        "colab": {
          "base_uri": "https://localhost:8080/",
          "height": 488
        },
        "id": "HTH4avPqraIs",
        "outputId": "9d48243b-3b64-488d-85de-628226149cff"
      },
      "execution_count": null,
      "outputs": [
        {
          "output_type": "display_data",
          "data": {
            "text/plain": [
              "<Figure size 800x500 with 1 Axes>"
            ],
            "image/png": "[encoded data removed]"
          },
          "metadata": {}
        }
      ]
    },
    {
      "cell_type": "markdown",
      "source": [
        "O boxplot mostra que o tempo de permanência no abrigo é semelhante entre gatos e cachorros, com medianas próximas e ampla variação nos dois grupos. No entanto, observa-se que gatos tendem a concentrar mais casos de longas esperas, indicando que, quando não são adotados rapidamente, permanecem por períodos maiores no abrigo, enquanto os cachorros apresentam uma distribuição mais homogênea ao longo do tempo."
      ],
      "metadata": {
        "id": "UDZQOKLQxFGa"
      }
    },
    {
      "cell_type": "markdown",
      "source": [
        "Analisando o tempo despendido no abrigo entre animais adotados e não adotados, temos o seguinte resultado:"
      ],
      "metadata": {
        "id": "KV1haemExxgY"
      }
    },
    {
      "cell_type": "code",
      "source": [
        "plt.figure(figsize=(10,6))\n",
        "sns.boxplot(x=\"Species\", y=\"TimeInShelterDays\", hue=\"AdoptionLikelihood\", data=combined)\n",
        "plt.title(\"Tempo de permanência no abrigo por espécie e status de adoção\")\n",
        "plt.ylabel(\"Dias no abrigo\")\n",
        "plt.xlabel(\"Espécie\")\n",
        "plt.show()"
      ],
      "metadata": {
        "colab": {
          "base_uri": "https://localhost:8080/",
          "height": 565
        },
        "id": "FP7ovxacrKru",
        "outputId": "42f304cb-3b80-47f3-9ba0-9dbf8e2ad1ee"
      },
      "execution_count": null,
      "outputs": [
        {
          "output_type": "display_data",
          "data": {
            "text/plain": [
              "<Figure size 1000x600 with 1 Axes>"
            ],
            "image/png": "[encoded data removed]"
          },
          "metadata": {}
        }
      ]
    },
    {
      "cell_type": "markdown",
      "source": [
        "O gráfico mostra que o **tempo de permanência no abrigo** varia de forma parecida entre gatos e cachorros, tanto para os animais que foram adotados (1) quanto para os que não foram (0). Em ambas as espécies, a mediana dos dias no abrigo é próxima, mas percebe-se que os animais adotados tendem a permanecer um pouco menos tempo em comparação aos que não foram adotados. Isso indica que, independentemente da espécie, a chance de adoção está associada a uma redução no período de estadia, ainda que a distribuição geral dos tempos apresente grande variação nos dois grupos."
      ],
      "metadata": {
        "id": "bSTBTwy8xv2-"
      }
    }
  ]
}